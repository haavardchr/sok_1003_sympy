{
 "cells": [
  {
   "cell_type": "code",
   "execution_count": 2,
   "id": "ec086fa6-8aa0-4989-837b-575920e48fcf",
   "metadata": {},
   "outputs": [],
   "source": [
    "import sympy as sp\n",
    "x, y=sp.symbols('x y')"
   ]
  },
  {
   "cell_type": "code",
   "execution_count": 5,
   "id": "264aeec4-66f2-41c4-ad20-71d7308f4e4c",
   "metadata": {
    "tags": []
   },
   "outputs": [],
   "source": [
    "#Læresteg 15"
   ]
  },
  {
   "cell_type": "code",
   "execution_count": 6,
   "id": "1ae75b85-c681-4399-8e0c-29c10b534811",
   "metadata": {},
   "outputs": [],
   "source": [
    "#Oppgave 1"
   ]
  },
  {
   "cell_type": "code",
   "execution_count": 3,
   "id": "0caf9673-abec-46ad-a1c0-be0eff9384eb",
   "metadata": {},
   "outputs": [
    {
     "data": {
      "text/latex": [
       "$\\displaystyle 2 x + 4 y = 6$"
      ],
      "text/plain": [
       "Eq(2*x + 4*y, 6)"
      ]
     },
     "execution_count": 3,
     "metadata": {},
     "output_type": "execute_result"
    }
   ],
   "source": [
    "#a\n",
    "eqa1=sp.Eq(2*x + 4*y,6)\n",
    "eqa1"
   ]
  },
  {
   "cell_type": "code",
   "execution_count": 3,
   "id": "f8244604-53ca-4bdc-bc3d-7194eb7d822d",
   "metadata": {},
   "outputs": [
    {
     "data": {
      "text/latex": [
       "$\\displaystyle - 2 x + y = 4$"
      ],
      "text/plain": [
       "Eq(-2*x + y, 4)"
      ]
     },
     "execution_count": 3,
     "metadata": {},
     "output_type": "execute_result"
    }
   ],
   "source": [
    "eqa2=sp.Eq(-2*x + y,4)\n",
    "eqa2"
   ]
  },
  {
   "cell_type": "code",
   "execution_count": 86,
   "id": "d1c78fde-36be-4d35-b32d-ca2ba5d3b5e2",
   "metadata": {},
   "outputs": [
    {
     "data": {
      "text/plain": [
       "{x: -1, y: 2}"
      ]
     },
     "execution_count": 86,
     "metadata": {},
     "output_type": "execute_result"
    }
   ],
   "source": [
    "from sympy.solvers import solve\n",
    "sola=solve([eqa1, eqa2], [x,y])\n",
    "sola"
   ]
  },
  {
   "cell_type": "code",
   "execution_count": 87,
   "id": "5931dadc-1ae6-42a8-b6ea-645afb6d19c0",
   "metadata": {},
   "outputs": [
    {
     "data": {
      "text/latex": [
       "$\\displaystyle \\text{True}$"
      ],
      "text/plain": [
       "True"
      ]
     },
     "execution_count": 87,
     "metadata": {},
     "output_type": "execute_result"
    }
   ],
   "source": [
    "eqa1.subs(sola)"
   ]
  },
  {
   "cell_type": "code",
   "execution_count": 88,
   "id": "9306ca4b-dba5-4827-bd72-675f54a7c23c",
   "metadata": {},
   "outputs": [
    {
     "data": {
      "text/latex": [
       "$\\displaystyle \\text{True}$"
      ],
      "text/plain": [
       "True"
      ]
     },
     "execution_count": 88,
     "metadata": {},
     "output_type": "execute_result"
    }
   ],
   "source": [
    "eqa2.subs(sola)"
   ]
  },
  {
   "cell_type": "code",
   "execution_count": 89,
   "id": "6dfd0fab-c07b-4349-a881-89eb8ec8a706",
   "metadata": {},
   "outputs": [
    {
     "data": {
      "text/latex": [
       "$\\displaystyle 2 x - y = -1$"
      ],
      "text/plain": [
       "Eq(2*x - y, -1)"
      ]
     },
     "execution_count": 89,
     "metadata": {},
     "output_type": "execute_result"
    }
   ],
   "source": [
    "#b\n",
    "eqb1=sp.Eq(2*x - y, -1)\n",
    "eqb1"
   ]
  },
  {
   "cell_type": "code",
   "execution_count": 90,
   "id": "ba93d7dd-41ed-4ca2-84cf-9ff2d12307eb",
   "metadata": {},
   "outputs": [
    {
     "data": {
      "text/latex": [
       "$\\displaystyle x^{2} + x - y = 1$"
      ],
      "text/plain": [
       "Eq(x**2 + x - y, 1)"
      ]
     },
     "execution_count": 90,
     "metadata": {},
     "output_type": "execute_result"
    }
   ],
   "source": [
    "eqb2=sp.Eq(x**2 + x - y, 1)\n",
    "eq2"
   ]
  },
  {
   "cell_type": "code",
   "execution_count": 95,
   "id": "ff6df890-d5d4-4171-a0d9-bc22039e97ec",
   "metadata": {},
   "outputs": [
    {
     "data": {
      "text/plain": [
       "[{x: -1, y: -1}, {x: 2, y: 5}]"
      ]
     },
     "execution_count": 95,
     "metadata": {},
     "output_type": "execute_result"
    }
   ],
   "source": [
    "from sympy.solvers import solve\n",
    "sp.solve([eqb1, eqb2])"
   ]
  },
  {
   "cell_type": "code",
   "execution_count": 97,
   "id": "5f3d23fb-da2f-4d07-b5ab-5bdda405444f",
   "metadata": {},
   "outputs": [],
   "source": [
    "#Oppgave 2"
   ]
  },
  {
   "cell_type": "code",
   "execution_count": 4,
   "id": "cba91f87-e3b0-42d3-980e-2752b1cfa096",
   "metadata": {},
   "outputs": [
    {
     "data": {
      "text/latex": [
       "$\\displaystyle 3 x - 12 = - 6 y$"
      ],
      "text/plain": [
       "Eq(3*x - 12, -6*y)"
      ]
     },
     "execution_count": 4,
     "metadata": {},
     "output_type": "execute_result"
    }
   ],
   "source": [
    "#a\n",
    "e2a=sp.Eq(3*x-12, -6*y)\n",
    "e2a"
   ]
  },
  {
   "cell_type": "code",
   "execution_count": 6,
   "id": "0a8dab25-d5cc-4522-b5a7-88df810cfa80",
   "metadata": {},
   "outputs": [
    {
     "data": {
      "text/latex": [
       "$\\displaystyle 4 x - 8 y = 16$"
      ],
      "text/plain": [
       "Eq(4*x - 8*y, 16)"
      ]
     },
     "execution_count": 6,
     "metadata": {},
     "output_type": "execute_result"
    }
   ],
   "source": [
    "e2b=sp.Eq(4*x-8*y, 16)\n",
    "e2b"
   ]
  },
  {
   "cell_type": "code",
   "execution_count": 7,
   "id": "ca76f888-0545-4d78-9647-1aaaec1e39aa",
   "metadata": {},
   "outputs": [
    {
     "data": {
      "text/plain": [
       "{x: 4, y: 0}"
      ]
     },
     "execution_count": 7,
     "metadata": {},
     "output_type": "execute_result"
    }
   ],
   "source": [
    "sp.solve([e2a, e2b])"
   ]
  },
  {
   "cell_type": "code",
   "execution_count": 8,
   "id": "b54e65af-c0e3-4c39-82de-9efbd2cee886",
   "metadata": {},
   "outputs": [
    {
     "data": {
      "text/latex": [
       "$\\displaystyle x^{2} + 4 x - 3 = 3 y$"
      ],
      "text/plain": [
       "Eq(x**2 + 4*x - 3, 3*y)"
      ]
     },
     "execution_count": 8,
     "metadata": {},
     "output_type": "execute_result"
    }
   ],
   "source": [
    "#b\n",
    "e2c=sp.Eq(x**2+4*x-3, 3*y)\n",
    "e2c"
   ]
  },
  {
   "cell_type": "code",
   "execution_count": 9,
   "id": "1028164e-d323-489b-ac98-8c2445495c69",
   "metadata": {},
   "outputs": [
    {
     "data": {
      "text/latex": [
       "$\\displaystyle 2 y = 8 - x$"
      ],
      "text/plain": [
       "Eq(2*y, 8 - x)"
      ]
     },
     "execution_count": 9,
     "metadata": {},
     "output_type": "execute_result"
    }
   ],
   "source": [
    "e2d=sp.Eq(2*y, 8-x)\n",
    "e2d"
   ]
  },
  {
   "cell_type": "code",
   "execution_count": 10,
   "id": "cdee4a08-6fad-4940-bfdf-ca1d1fdbcb08",
   "metadata": {},
   "outputs": [
    {
     "data": {
      "text/plain": [
       "[{x: -15/2, y: 31/4}, {x: 2, y: 3}]"
      ]
     },
     "execution_count": 10,
     "metadata": {},
     "output_type": "execute_result"
    }
   ],
   "source": [
    "sp.solve([e2c, e2d])"
   ]
  },
  {
   "cell_type": "code",
   "execution_count": 11,
   "id": "bff113da-d5c7-4e58-aaf5-9d0ddec1ea0b",
   "metadata": {},
   "outputs": [],
   "source": [
    "#læresteg 16"
   ]
  },
  {
   "cell_type": "code",
   "execution_count": 12,
   "id": "b0843f18-4d4e-4111-a435-9c946083aa85",
   "metadata": {},
   "outputs": [],
   "source": [
    "#Oppgave 1"
   ]
  },
  {
   "cell_type": "code",
   "execution_count": 14,
   "id": "14eaf6e9-6fad-4458-9d63-b7a92a064887",
   "metadata": {},
   "outputs": [
    {
     "data": {
      "text/latex": [
       "$\\displaystyle 4 x + 2 y = 12$"
      ],
      "text/plain": [
       "Eq(4*x + 2*y, 12)"
      ]
     },
     "execution_count": 14,
     "metadata": {},
     "output_type": "execute_result"
    }
   ],
   "source": [
    "#a\n",
    "e161a1=sp.Eq(4*x+2*y, 12)\n",
    "e161a1"
   ]
  },
  {
   "cell_type": "code",
   "execution_count": 15,
   "id": "985ab695-77af-475d-b8ea-6e0e21412983",
   "metadata": {},
   "outputs": [
    {
     "data": {
      "text/latex": [
       "$\\displaystyle 6 x - 2 y = 8$"
      ],
      "text/plain": [
       "Eq(6*x - 2*y, 8)"
      ]
     },
     "execution_count": 15,
     "metadata": {},
     "output_type": "execute_result"
    }
   ],
   "source": [
    "e161a2=sp.Eq(6*x-2*y, 8)\n",
    "e161a2"
   ]
  },
  {
   "cell_type": "code",
   "execution_count": 16,
   "id": "abd66288-8e4e-4a29-987e-c4f7af3e3cbb",
   "metadata": {},
   "outputs": [
    {
     "data": {
      "text/plain": [
       "{x: 2, y: 2}"
      ]
     },
     "execution_count": 16,
     "metadata": {},
     "output_type": "execute_result"
    }
   ],
   "source": [
    "sp.solve([e161a1, e161a2])"
   ]
  },
  {
   "cell_type": "code",
   "execution_count": 26,
   "id": "0188e25b-9d27-490b-854d-aa8393d88761",
   "metadata": {},
   "outputs": [
    {
     "data": {
      "text/latex": [
       "$\\displaystyle 2 x + y^{2} = 25$"
      ],
      "text/plain": [
       "Eq(2*x + y**2, 25)"
      ]
     },
     "execution_count": 26,
     "metadata": {},
     "output_type": "execute_result"
    }
   ],
   "source": [
    "#b\n",
    "e161b1=sp.Eq(2*x + y**2, 25)\n",
    "e161b1"
   ]
  },
  {
   "cell_type": "code",
   "execution_count": 18,
   "id": "c0af9ea6-4447-4e5c-a0e5-4bee1c3f2452",
   "metadata": {},
   "outputs": [
    {
     "data": {
      "text/latex": [
       "$\\displaystyle x - 2 y = 10$"
      ],
      "text/plain": [
       "Eq(x - 2*y, 10)"
      ]
     },
     "execution_count": 18,
     "metadata": {},
     "output_type": "execute_result"
    }
   ],
   "source": [
    "e161b2=sp.Eq(x-2*y, 10)\n",
    "e161b2"
   ]
  },
  {
   "cell_type": "code",
   "execution_count": 19,
   "id": "094dcd13-aa48-47c0-b9af-c0fa91756bcf",
   "metadata": {},
   "outputs": [
    {
     "data": {
      "text/plain": [
       "[{x: 0, y: -5}, {x: 12, y: 1}]"
      ]
     },
     "execution_count": 19,
     "metadata": {},
     "output_type": "execute_result"
    }
   ],
   "source": [
    "sp.solve([e161b1, e161b2])"
   ]
  },
  {
   "cell_type": "code",
   "execution_count": 20,
   "id": "94178853-282e-44c4-aca6-e1cc23f194ae",
   "metadata": {},
   "outputs": [],
   "source": [
    "#Oppgave 2"
   ]
  },
  {
   "cell_type": "code",
   "execution_count": 25,
   "id": "a3bccb3a-034d-4cfd-a462-ef84ba28c015",
   "metadata": {},
   "outputs": [
    {
     "data": {
      "text/latex": [
       "$\\displaystyle 4 x - 4 y = 8$"
      ],
      "text/plain": [
       "Eq(4*x - 4*y, 8)"
      ]
     },
     "execution_count": 25,
     "metadata": {},
     "output_type": "execute_result"
    }
   ],
   "source": [
    "#a\n",
    "e162a1=sp.Eq(4*x-4*y, 8)\n",
    "e162a1"
   ]
  },
  {
   "cell_type": "code",
   "execution_count": 23,
   "id": "70548e6c-3471-479c-a3ad-bcbebc1d0533",
   "metadata": {},
   "outputs": [
    {
     "data": {
      "text/latex": [
       "$\\displaystyle 9 x - 5 y = 26$"
      ],
      "text/plain": [
       "Eq(9*x - 5*y, 26)"
      ]
     },
     "execution_count": 23,
     "metadata": {},
     "output_type": "execute_result"
    }
   ],
   "source": [
    "e162a2=sp.Eq(9*x-5*y, 26)\n",
    "e162a2"
   ]
  },
  {
   "cell_type": "code",
   "execution_count": 24,
   "id": "dfb5f88e-95f4-4e85-a952-b7914b807fbe",
   "metadata": {},
   "outputs": [
    {
     "data": {
      "text/plain": [
       "{x: 4, y: 2}"
      ]
     },
     "execution_count": 24,
     "metadata": {},
     "output_type": "execute_result"
    }
   ],
   "source": [
    "sp.solve([e162a1, e162a2])"
   ]
  },
  {
   "cell_type": "code",
   "execution_count": 27,
   "id": "566b8a72-3c9d-40f0-8e33-07bc7de1f664",
   "metadata": {},
   "outputs": [
    {
     "data": {
      "text/latex": [
       "$\\displaystyle x + 2 y^{2} = 15$"
      ],
      "text/plain": [
       "Eq(x + 2*y**2, 15)"
      ]
     },
     "execution_count": 27,
     "metadata": {},
     "output_type": "execute_result"
    }
   ],
   "source": [
    "#b\n",
    "e162b1=sp.Eq(x+2*y**2, 15)\n",
    "e162b1"
   ]
  },
  {
   "cell_type": "code",
   "execution_count": 29,
   "id": "eda8fcd6-ea53-42f6-944d-efe0cd78bfa8",
   "metadata": {},
   "outputs": [
    {
     "data": {
      "text/latex": [
       "$\\displaystyle x^{2} - 4 y^{2} = 33$"
      ],
      "text/plain": [
       "Eq(x**2 - 4*y**2, 33)"
      ]
     },
     "execution_count": 29,
     "metadata": {},
     "output_type": "execute_result"
    }
   ],
   "source": [
    "e162b2=sp.Eq(x**2-4*y**2, 33)\n",
    "e162b2"
   ]
  },
  {
   "cell_type": "code",
   "execution_count": 30,
   "id": "2ee763ef-8106-47ec-9ea7-3d089685c24b",
   "metadata": {},
   "outputs": [
    {
     "data": {
      "text/plain": [
       "[{x: -9, y: -2*sqrt(3)}, {x: -9, y: 2*sqrt(3)}, {x: 7, y: -2}, {x: 7, y: 2}]"
      ]
     },
     "execution_count": 30,
     "metadata": {},
     "output_type": "execute_result"
    }
   ],
   "source": [
    "sp.solve([e162b1, e162b2])"
   ]
  },
  {
   "cell_type": "code",
   "execution_count": 31,
   "id": "3795669d-645e-4e83-9082-9e679c91d5ee",
   "metadata": {},
   "outputs": [],
   "source": [
    "#Læresteg 17"
   ]
  },
  {
   "cell_type": "code",
   "execution_count": 32,
   "id": "10f0d500-1e27-4822-858d-4c483e209c16",
   "metadata": {},
   "outputs": [],
   "source": [
    "#Oppgave 1"
   ]
  },
  {
   "cell_type": "code",
   "execution_count": 33,
   "id": "8ad802a6-6e05-47f4-b2d9-dd34c96ff8d1",
   "metadata": {},
   "outputs": [
    {
     "data": {
      "text/latex": [
       "$\\displaystyle x y^{2} - x = 0$"
      ],
      "text/plain": [
       "Eq(x*y**2 - x, 0)"
      ]
     },
     "execution_count": 33,
     "metadata": {},
     "output_type": "execute_result"
    }
   ],
   "source": [
    "#a\n",
    "e171a1=sp.Eq(x*y**2-x, 0)\n",
    "e171a1"
   ]
  },
  {
   "cell_type": "code",
   "execution_count": 34,
   "id": "b979216b-aad9-4227-a6f1-e34f3be7c1a7",
   "metadata": {},
   "outputs": [
    {
     "data": {
      "text/latex": [
       "$\\displaystyle x + y^{2} = 16$"
      ],
      "text/plain": [
       "Eq(x + y**2, 16)"
      ]
     },
     "execution_count": 34,
     "metadata": {},
     "output_type": "execute_result"
    }
   ],
   "source": [
    "e171a2=sp.Eq(x+y**2, 16)\n",
    "e171a2"
   ]
  },
  {
   "cell_type": "code",
   "execution_count": 35,
   "id": "61dd8cd2-9324-48ef-8b97-08d3f901b31d",
   "metadata": {},
   "outputs": [
    {
     "data": {
      "text/plain": [
       "[{x: 0, y: -4}, {x: 0, y: 4}, {x: 15, y: -1}, {x: 15, y: 1}]"
      ]
     },
     "execution_count": 35,
     "metadata": {},
     "output_type": "execute_result"
    }
   ],
   "source": [
    "sp.solve([e171a1, e171a2])"
   ]
  },
  {
   "cell_type": "code",
   "execution_count": 36,
   "id": "04f4425a-d14b-47b6-939b-2014066abef4",
   "metadata": {},
   "outputs": [
    {
     "data": {
      "text/latex": [
       "$\\displaystyle x^{2} + y^{2} = 100$"
      ],
      "text/plain": [
       "Eq(x**2 + y**2, 100)"
      ]
     },
     "execution_count": 36,
     "metadata": {},
     "output_type": "execute_result"
    }
   ],
   "source": [
    "e171b1=sp.Eq(x**2+y**2, 100)\n",
    "e171b1"
   ]
  },
  {
   "cell_type": "code",
   "execution_count": 38,
   "id": "ab58e7d9-8aaf-4a38-a2a2-f75a0f8a702d",
   "metadata": {},
   "outputs": [
    {
     "data": {
      "text/latex": [
       "$\\displaystyle x^{2} y - 36 y = 0$"
      ],
      "text/plain": [
       "Eq(x**2*y - 36*y, 0)"
      ]
     },
     "execution_count": 38,
     "metadata": {},
     "output_type": "execute_result"
    }
   ],
   "source": [
    "e171b2=sp.Eq(x**2*y-36*y, 0)\n",
    "e171b2"
   ]
  },
  {
   "cell_type": "code",
   "execution_count": 39,
   "id": "53a83b9f-9e8f-4e91-ad0d-6d8f18c67335",
   "metadata": {},
   "outputs": [
    {
     "data": {
      "text/plain": [
       "[{x: -10, y: 0},\n",
       " {x: -6, y: -8},\n",
       " {x: -6, y: 8},\n",
       " {x: 6, y: -8},\n",
       " {x: 6, y: 8},\n",
       " {x: 10, y: 0}]"
      ]
     },
     "execution_count": 39,
     "metadata": {},
     "output_type": "execute_result"
    }
   ],
   "source": [
    "sp.solve([e171b1, e171b2])"
   ]
  },
  {
   "cell_type": "code",
   "execution_count": 40,
   "id": "dc85f02b-1a29-4f32-88ca-0b94af7c66fb",
   "metadata": {},
   "outputs": [],
   "source": [
    "#Oppgave 2"
   ]
  },
  {
   "cell_type": "code",
   "execution_count": 41,
   "id": "e2fdda53-9b22-48d0-b46e-4763af9cbba8",
   "metadata": {},
   "outputs": [
    {
     "data": {
      "text/latex": [
       "$\\displaystyle x y^{2} - 49 x = 0$"
      ],
      "text/plain": [
       "Eq(x*y**2 - 49*x, 0)"
      ]
     },
     "execution_count": 41,
     "metadata": {},
     "output_type": "execute_result"
    }
   ],
   "source": [
    "#a\n",
    "e172a1=sp.Eq(x*y**2-49*x, 0)\n",
    "e172a1"
   ]
  },
  {
   "cell_type": "code",
   "execution_count": 42,
   "id": "5440fea3-a507-4637-9e19-68c05b6d1c48",
   "metadata": {},
   "outputs": [
    {
     "data": {
      "text/latex": [
       "$\\displaystyle x^{2} + y^{2} = 58$"
      ],
      "text/plain": [
       "Eq(x**2 + y**2, 58)"
      ]
     },
     "execution_count": 42,
     "metadata": {},
     "output_type": "execute_result"
    }
   ],
   "source": [
    "e172a2=sp.Eq(x**2+y**2, 58)\n",
    "e172a2"
   ]
  },
  {
   "cell_type": "code",
   "execution_count": 43,
   "id": "9d8b4428-c6ad-43e3-b45c-aadbd857aa0b",
   "metadata": {},
   "outputs": [
    {
     "data": {
      "text/plain": [
       "[{x: -3, y: -7},\n",
       " {x: -3, y: 7},\n",
       " {x: 0, y: -sqrt(58)},\n",
       " {x: 0, y: sqrt(58)},\n",
       " {x: 3, y: -7},\n",
       " {x: 3, y: 7}]"
      ]
     },
     "execution_count": 43,
     "metadata": {},
     "output_type": "execute_result"
    }
   ],
   "source": [
    "sp.solve([e172a1, e172a2])"
   ]
  },
  {
   "cell_type": "code",
   "execution_count": 47,
   "id": "8f393a63-d19e-4adf-84d7-50ecc9f489e6",
   "metadata": {},
   "outputs": [
    {
     "data": {
      "text/latex": [
       "$\\displaystyle x^{2} + y^{2} = 1.25$"
      ],
      "text/plain": [
       "Eq(x**2 + y**2, 1.25)"
      ]
     },
     "execution_count": 47,
     "metadata": {},
     "output_type": "execute_result"
    }
   ],
   "source": [
    "#b\n",
    "e172b1=sp.Eq(x**2+y**2, 5/4)\n",
    "e172b1"
   ]
  },
  {
   "cell_type": "code",
   "execution_count": 45,
   "id": "1127f958-07de-4136-b3b3-d2e48e4a135d",
   "metadata": {},
   "outputs": [
    {
     "data": {
      "text/latex": [
       "$\\displaystyle 2 x y + y = 0$"
      ],
      "text/plain": [
       "Eq(2*x*y + y, 0)"
      ]
     },
     "execution_count": 45,
     "metadata": {},
     "output_type": "execute_result"
    }
   ],
   "source": [
    "e172b2=sp.Eq(2*x*y+y, 0)\n",
    "e172b2"
   ]
  },
  {
   "cell_type": "code",
   "execution_count": 46,
   "id": "35e099db-5c87-4d89-8867-11669cd6b955",
   "metadata": {},
   "outputs": [
    {
     "data": {
      "text/plain": [
       "[{x: -1.11803398874989, y: 0.0},\n",
       " {x: -0.500000000000000, y: -1.00000000000000},\n",
       " {x: -0.500000000000000, y: 1.00000000000000},\n",
       " {x: 1.11803398874989, y: 0.0}]"
      ]
     },
     "execution_count": 46,
     "metadata": {},
     "output_type": "execute_result"
    }
   ],
   "source": [
    "sp.solve([e172b1, e172b2])"
   ]
  },
  {
   "cell_type": "code",
   "execution_count": 48,
   "id": "dab45f63-a0b7-4eb5-9667-c20a886504f2",
   "metadata": {},
   "outputs": [],
   "source": [
    "#læresteg 19"
   ]
  },
  {
   "cell_type": "code",
   "execution_count": 49,
   "id": "5061234e-2758-4c3f-a402-665a646b603a",
   "metadata": {},
   "outputs": [],
   "source": [
    "#Oppgave 1"
   ]
  },
  {
   "cell_type": "code",
   "execution_count": 51,
   "id": "4192924e-8d2e-410f-aab1-d1e869597037",
   "metadata": {},
   "outputs": [
    {
     "data": {
      "text/latex": [
       "$\\displaystyle 5 x^{4}$"
      ],
      "text/plain": [
       "5*x**4"
      ]
     },
     "execution_count": 51,
     "metadata": {},
     "output_type": "execute_result"
    }
   ],
   "source": [
    "#a\n",
    "e191a=sp.diff(x**5)\n",
    "e191a"
   ]
  },
  {
   "cell_type": "code",
   "execution_count": 60,
   "id": "655ae925-00e8-4c9d-b6d0-d165a7f2368a",
   "metadata": {},
   "outputs": [
    {
     "data": {
      "text/latex": [
       "$\\displaystyle 1$"
      ],
      "text/plain": [
       "1"
      ]
     },
     "execution_count": 60,
     "metadata": {},
     "output_type": "execute_result"
    }
   ],
   "source": [
    "#b\n",
    "e191b=sp.diff(x + 12)\n",
    "e191b"
   ]
  },
  {
   "cell_type": "code",
   "execution_count": 61,
   "id": "c4ac8b78-b2aa-4fd1-b89f-1367f541be6b",
   "metadata": {},
   "outputs": [
    {
     "data": {
      "text/latex": [
       "$\\displaystyle 3 x^{2} + 8 x$"
      ],
      "text/plain": [
       "3*x**2 + 8*x"
      ]
     },
     "execution_count": 61,
     "metadata": {},
     "output_type": "execute_result"
    }
   ],
   "source": [
    "#c\n",
    "e191c=sp.diff(x**3+4*x**2)\n",
    "e191c"
   ]
  },
  {
   "cell_type": "code",
   "execution_count": 62,
   "id": "84c7acab-7d92-46bf-8e8b-3e7ab70582dd",
   "metadata": {},
   "outputs": [
    {
     "data": {
      "text/latex": [
       "$\\displaystyle 6 x^{2}$"
      ],
      "text/plain": [
       "6*x**2"
      ]
     },
     "execution_count": 62,
     "metadata": {},
     "output_type": "execute_result"
    }
   ],
   "source": [
    "#d\n",
    "e191d=sp.diff(2*x**3+ sp.sqrt(36))\n",
    "e191d"
   ]
  },
  {
   "cell_type": "code",
   "execution_count": 63,
   "id": "29760b82-8c27-42e9-8599-fc8084353446",
   "metadata": {},
   "outputs": [
    {
     "data": {
      "text/latex": [
       "$\\displaystyle \\frac{1}{2 \\sqrt{x}}$"
      ],
      "text/plain": [
       "1/(2*sqrt(x))"
      ]
     },
     "execution_count": 63,
     "metadata": {},
     "output_type": "execute_result"
    }
   ],
   "source": [
    "#e\n",
    "e191e=sp.diff(sp.sqrt(x)+5**2)\n",
    "e191e"
   ]
  },
  {
   "cell_type": "code",
   "execution_count": 64,
   "id": "ccd20f31-9bc3-4308-8c11-4f27d154280d",
   "metadata": {},
   "outputs": [
    {
     "data": {
      "text/latex": [
       "$\\displaystyle 3 x^{2} - \\frac{1}{x^{2}}$"
      ],
      "text/plain": [
       "3*x**2 - 1/x**2"
      ]
     },
     "execution_count": 64,
     "metadata": {},
     "output_type": "execute_result"
    }
   ],
   "source": [
    "#f\n",
    "e191f=sp.diff(x**3+1/x)\n",
    "e191f"
   ]
  },
  {
   "cell_type": "code",
   "execution_count": 69,
   "id": "e125606b-8058-4e75-8db5-01b0c7b1f748",
   "metadata": {},
   "outputs": [
    {
     "data": {
      "text/latex": [
       "$\\displaystyle 3 x^{2} - 2 x + 0.25$"
      ],
      "text/plain": [
       "3*x**2 - 2*x + 0.25"
      ]
     },
     "execution_count": 69,
     "metadata": {},
     "output_type": "execute_result"
    }
   ],
   "source": [
    "#g\n",
    "e191g=sp.diff((x**3)-(x**2)+(1/4)*x)\n",
    "e191g"
   ]
  },
  {
   "cell_type": "code",
   "execution_count": 70,
   "id": "54ed3753-98da-4eb1-8d0e-2062fa766adf",
   "metadata": {},
   "outputs": [],
   "source": [
    "#Oppgave 2"
   ]
  },
  {
   "cell_type": "code",
   "execution_count": 71,
   "id": "4c358d22-9556-4ae9-b646-224073f2a6b7",
   "metadata": {},
   "outputs": [
    {
     "data": {
      "text/latex": [
       "$\\displaystyle 36 x^{5} - \\frac{1}{x^{2}}$"
      ],
      "text/plain": [
       "36*x**5 - 1/x**2"
      ]
     },
     "execution_count": 71,
     "metadata": {},
     "output_type": "execute_result"
    }
   ],
   "source": [
    "#a\n",
    "e192a=sp.diff(1/x+6*x**6)\n",
    "e192a"
   ]
  },
  {
   "cell_type": "code",
   "execution_count": 72,
   "id": "1f4ec73b-d84d-44d6-b6ce-e8b05a9ac686",
   "metadata": {},
   "outputs": [
    {
     "data": {
      "text/latex": [
       "$\\displaystyle 1.5 x^{2} - 1$"
      ],
      "text/plain": [
       "1.5*x**2 - 1"
      ]
     },
     "execution_count": 72,
     "metadata": {},
     "output_type": "execute_result"
    }
   ],
   "source": [
    "#b\n",
    "e192b=sp.diff(-x+1/2*x**3)\n",
    "e192b"
   ]
  },
  {
   "cell_type": "code",
   "execution_count": 74,
   "id": "578d6b07-2686-439c-a92e-902a35e01ea4",
   "metadata": {},
   "outputs": [
    {
     "data": {
      "text/latex": [
       "$\\displaystyle x^{2} + x \\left(2 x + 2\\right) + 2 x - 3$"
      ],
      "text/plain": [
       "x**2 + x*(2*x + 2) + 2*x - 3"
      ]
     },
     "execution_count": 74,
     "metadata": {},
     "output_type": "execute_result"
    }
   ],
   "source": [
    "#c\n",
    "e192c=sp.diff(x*(x**2+2*x-3))\n",
    "e192c"
   ]
  },
  {
   "cell_type": "code",
   "execution_count": 76,
   "id": "5fe4b2d9-27dd-47fa-a89e-d073365696d0",
   "metadata": {},
   "outputs": [
    {
     "data": {
      "text/latex": [
       "$\\displaystyle 3 x^{2} + 4 x - 3$"
      ],
      "text/plain": [
       "3*x**2 + 4*x - 3"
      ]
     },
     "execution_count": 76,
     "metadata": {},
     "output_type": "execute_result"
    }
   ],
   "source": [
    "sp.simplify(e192c)"
   ]
  },
  {
   "cell_type": "code",
   "execution_count": 77,
   "id": "6a7a1eab-3c0a-43fc-991e-a873c40b4b8c",
   "metadata": {},
   "outputs": [],
   "source": [
    "#læresteg 20"
   ]
  },
  {
   "cell_type": "code",
   "execution_count": 78,
   "id": "d40f3014-40e4-434c-989b-37f4989e2521",
   "metadata": {},
   "outputs": [],
   "source": [
    "#Oppgave 1"
   ]
  },
  {
   "cell_type": "code",
   "execution_count": 79,
   "id": "cc45e0f2-75e6-456f-bd6b-e4feb9ef13b9",
   "metadata": {},
   "outputs": [
    {
     "data": {
      "text/latex": [
       "$\\displaystyle 9 x^{8}$"
      ],
      "text/plain": [
       "9*x**8"
      ]
     },
     "execution_count": 79,
     "metadata": {},
     "output_type": "execute_result"
    }
   ],
   "source": [
    "#e\n",
    "e201e=sp.diff(x**4*x**5)\n",
    "e201e"
   ]
  },
  {
   "cell_type": "code",
   "execution_count": 80,
   "id": "1c431338-d60b-42f6-98d2-f9da5e706722",
   "metadata": {},
   "outputs": [
    {
     "data": {
      "text/latex": [
       "$\\displaystyle \\frac{3 \\sqrt{x}}{2}$"
      ],
      "text/plain": [
       "3*sqrt(x)/2"
      ]
     },
     "execution_count": 80,
     "metadata": {},
     "output_type": "execute_result"
    }
   ],
   "source": [
    "#f\n",
    "e201f=sp.diff(x*sp.sqrt(x))\n",
    "e201f"
   ]
  },
  {
   "cell_type": "code",
   "execution_count": 81,
   "id": "b40b19fa-795b-480a-aba5-c40030e37620",
   "metadata": {},
   "outputs": [
    {
     "data": {
      "text/latex": [
       "$\\displaystyle - \\frac{6}{x^{4}}$"
      ],
      "text/plain": [
       "-6/x**4"
      ]
     },
     "execution_count": 81,
     "metadata": {},
     "output_type": "execute_result"
    }
   ],
   "source": [
    "#g\n",
    "e201g=sp.diff(2/x**3)\n",
    "e201g"
   ]
  },
  {
   "cell_type": "code",
   "execution_count": 82,
   "id": "6b529f32-ab78-4fa9-a764-21326f29e63f",
   "metadata": {},
   "outputs": [
    {
     "data": {
      "text/latex": [
       "$\\displaystyle \\frac{2}{x^{2}} - \\frac{3 \\left(x^{2} - 2\\right)}{x^{4}}$"
      ],
      "text/plain": [
       "2/x**2 - 3*(x**2 - 2)/x**4"
      ]
     },
     "execution_count": 82,
     "metadata": {},
     "output_type": "execute_result"
    }
   ],
   "source": [
    "#h\n",
    "e201h=sp.diff((x**2-2)/x**3)\n",
    "e201h"
   ]
  },
  {
   "cell_type": "code",
   "execution_count": 83,
   "id": "1432cf39-ca33-485b-8293-f48c0ec1b55e",
   "metadata": {},
   "outputs": [
    {
     "data": {
      "text/latex": [
       "$\\displaystyle \\frac{6 - x^{2}}{x^{4}}$"
      ],
      "text/plain": [
       "(6 - x**2)/x**4"
      ]
     },
     "execution_count": 83,
     "metadata": {},
     "output_type": "execute_result"
    }
   ],
   "source": [
    "sp.simplify(e201h)"
   ]
  },
  {
   "cell_type": "code",
   "execution_count": 84,
   "id": "57db4ab1-9166-47fd-b999-809202585889",
   "metadata": {},
   "outputs": [
    {
     "data": {
      "text/latex": [
       "$\\displaystyle \\frac{13 x^{\\frac{11}{2}}}{2}$"
      ],
      "text/plain": [
       "13*x**(11/2)/2"
      ]
     },
     "execution_count": 84,
     "metadata": {},
     "output_type": "execute_result"
    }
   ],
   "source": [
    "#i\n",
    "e201i=sp.diff(sp.sqrt(x)*x**6)\n",
    "e201i"
   ]
  },
  {
   "cell_type": "code",
   "execution_count": 85,
   "id": "cf6016d8-bf24-4166-b6ee-a71bb8a7c3c0",
   "metadata": {},
   "outputs": [
    {
     "data": {
      "text/latex": [
       "$\\displaystyle 3 x^{2} + 1$"
      ],
      "text/plain": [
       "3*x**2 + 1"
      ]
     },
     "execution_count": 85,
     "metadata": {},
     "output_type": "execute_result"
    }
   ],
   "source": [
    "#j\n",
    "e201j=sp.diff(x*(x**2+1))\n",
    "e201j"
   ]
  },
  {
   "cell_type": "code",
   "execution_count": 88,
   "id": "66bc7007-a7f8-4547-ab6f-97d56a3052a7",
   "metadata": {},
   "outputs": [
    {
     "data": {
      "text/latex": [
       "$\\displaystyle - \\frac{3 x^{2} \\left(x^{2} + 4\\right)}{\\left(x^{3} - 1\\right)^{2}} + \\frac{2 x}{x^{3} - 1}$"
      ],
      "text/plain": [
       "-3*x**2*(x**2 + 4)/(x**3 - 1)**2 + 2*x/(x**3 - 1)"
      ]
     },
     "execution_count": 88,
     "metadata": {},
     "output_type": "execute_result"
    }
   ],
   "source": [
    "#k\n",
    "e201k=sp.diff((x**2+ 4 ) / (x**3 - 1))\n",
    "e201k"
   ]
  },
  {
   "cell_type": "code",
   "execution_count": 89,
   "id": "8a78859e-0bd1-401d-941a-71293e1e14bb",
   "metadata": {},
   "outputs": [
    {
     "data": {
      "text/latex": [
       "$\\displaystyle - \\frac{x \\left(x^{3} + 12 x + 2\\right)}{x^{6} - 2 x^{3} + 1}$"
      ],
      "text/plain": [
       "-x*(x**3 + 12*x + 2)/(x**6 - 2*x**3 + 1)"
      ]
     },
     "execution_count": 89,
     "metadata": {},
     "output_type": "execute_result"
    }
   ],
   "source": [
    "sp.simplify(e201k)"
   ]
  },
  {
   "cell_type": "code",
   "execution_count": 90,
   "id": "6ee03af7-3545-4d98-be64-2d3e9d544791",
   "metadata": {},
   "outputs": [
    {
     "data": {
      "text/latex": [
       "$\\displaystyle \\frac{x^{2} \\left(- 2 x - 2\\right)}{\\left(x^{2} + 2 x\\right)^{2}} + \\frac{2 x}{x^{2} + 2 x}$"
      ],
      "text/plain": [
       "x**2*(-2*x - 2)/(x**2 + 2*x)**2 + 2*x/(x**2 + 2*x)"
      ]
     },
     "execution_count": 90,
     "metadata": {},
     "output_type": "execute_result"
    }
   ],
   "source": [
    "#l\n",
    "e201l=sp.diff((x**2)/(x**2+2*x))\n",
    "e201l"
   ]
  },
  {
   "cell_type": "code",
   "execution_count": 91,
   "id": "f6614126-9664-4685-ae84-2a138bc94e0b",
   "metadata": {},
   "outputs": [
    {
     "data": {
      "text/latex": [
       "$\\displaystyle \\frac{2}{\\left(x + 2\\right)^{2}}$"
      ],
      "text/plain": [
       "2/(x + 2)**2"
      ]
     },
     "execution_count": 91,
     "metadata": {},
     "output_type": "execute_result"
    }
   ],
   "source": [
    "sp.simplify(e201l)"
   ]
  },
  {
   "cell_type": "code",
   "execution_count": 92,
   "id": "0738c9aa-6f85-47a5-a159-c6fe337e5b71",
   "metadata": {},
   "outputs": [
    {
     "data": {
      "text/latex": [
       "$\\displaystyle \\frac{2 x + 4}{x - 2} - \\frac{x^{2} + 4 x + 2}{\\left(x - 2\\right)^{2}}$"
      ],
      "text/plain": [
       "(2*x + 4)/(x - 2) - (x**2 + 4*x + 2)/(x - 2)**2"
      ]
     },
     "execution_count": 92,
     "metadata": {},
     "output_type": "execute_result"
    }
   ],
   "source": [
    "#m\n",
    "e201m=sp.diff((x**2+4*x+2)/(x-2))\n",
    "e201m"
   ]
  },
  {
   "cell_type": "code",
   "execution_count": 93,
   "id": "ab9be8c4-3f0a-4131-a0c1-1eb976ea7701",
   "metadata": {},
   "outputs": [
    {
     "data": {
      "text/latex": [
       "$\\displaystyle \\frac{x^{2} - 4 x - 10}{x^{2} - 4 x + 4}$"
      ],
      "text/plain": [
       "(x**2 - 4*x - 10)/(x**2 - 4*x + 4)"
      ]
     },
     "execution_count": 93,
     "metadata": {},
     "output_type": "execute_result"
    }
   ],
   "source": [
    "sp.simplify(e201m)"
   ]
  },
  {
   "cell_type": "code",
   "execution_count": 95,
   "id": "3bf7a081-e5c4-4b32-9551-5136eaefc2d7",
   "metadata": {},
   "outputs": [],
   "source": [
    "#Oppgave 2"
   ]
  },
  {
   "cell_type": "code",
   "execution_count": 97,
   "id": "257f60b8-0413-4bd2-8d21-e19549df0db1",
   "metadata": {},
   "outputs": [
    {
     "data": {
      "text/latex": [
       "$\\displaystyle - \\frac{2 x \\left(x^{3} - 2 x\\right)}{\\left(x^{2} - 1\\right)^{2}} + \\frac{3 x^{2} - 2}{x^{2} - 1}$"
      ],
      "text/plain": [
       "-2*x*(x**3 - 2*x)/(x**2 - 1)**2 + (3*x**2 - 2)/(x**2 - 1)"
      ]
     },
     "execution_count": 97,
     "metadata": {},
     "output_type": "execute_result"
    }
   ],
   "source": [
    "#a\n",
    "e202a=sp.diff((x**3-2*x)/(x**2-1))\n",
    "e202a"
   ]
  },
  {
   "cell_type": "code",
   "execution_count": 98,
   "id": "1a80aab9-614b-4ccc-b813-c4ae45f3fe9c",
   "metadata": {},
   "outputs": [
    {
     "data": {
      "text/latex": [
       "$\\displaystyle \\frac{x^{4} - x^{2} + 2}{x^{4} - 2 x^{2} + 1}$"
      ],
      "text/plain": [
       "(x**4 - x**2 + 2)/(x**4 - 2*x**2 + 1)"
      ]
     },
     "execution_count": 98,
     "metadata": {},
     "output_type": "execute_result"
    }
   ],
   "source": [
    "sp.simplify(e202a)"
   ]
  },
  {
   "cell_type": "code",
   "execution_count": 99,
   "id": "52ff83a1-437f-4e7b-a586-cd32e4f093c3",
   "metadata": {},
   "outputs": [
    {
     "data": {
      "text/latex": [
       "$\\displaystyle 2 x \\left(x^{2} - 1\\right) + 2 x \\left(x^{2} + 1\\right)$"
      ],
      "text/plain": [
       "2*x*(x**2 - 1) + 2*x*(x**2 + 1)"
      ]
     },
     "execution_count": 99,
     "metadata": {},
     "output_type": "execute_result"
    }
   ],
   "source": [
    "#b\n",
    "e202b=sp.diff((x**2+1)*(x**2-1))\n",
    "e202b"
   ]
  },
  {
   "cell_type": "code",
   "execution_count": 100,
   "id": "8aae8896-64ee-4ea8-ae42-045b050557b6",
   "metadata": {},
   "outputs": [
    {
     "data": {
      "text/latex": [
       "$\\displaystyle 4 x^{3}$"
      ],
      "text/plain": [
       "4*x**3"
      ]
     },
     "execution_count": 100,
     "metadata": {},
     "output_type": "execute_result"
    }
   ],
   "source": [
    "sp.simplify(e202b)"
   ]
  },
  {
   "cell_type": "code",
   "execution_count": 101,
   "id": "b0701647-2d37-407b-a1fb-b0ff16d8fb97",
   "metadata": {},
   "outputs": [
    {
     "data": {
      "text/latex": [
       "$\\displaystyle - \\frac{3 x^{2} \\left(3 x - 4\\right)}{\\left(x^{3} + 7\\right)^{2}} + \\frac{3}{x^{3} + 7}$"
      ],
      "text/plain": [
       "-3*x**2*(3*x - 4)/(x**3 + 7)**2 + 3/(x**3 + 7)"
      ]
     },
     "execution_count": 101,
     "metadata": {},
     "output_type": "execute_result"
    }
   ],
   "source": [
    "#c\n",
    "e202c=sp.diff((3*x-4)/(x**3+7))\n",
    "e202c"
   ]
  },
  {
   "cell_type": "code",
   "execution_count": 102,
   "id": "7f758dfa-e8a9-4ebe-b17e-41602b429fd6",
   "metadata": {},
   "outputs": [
    {
     "data": {
      "text/latex": [
       "$\\displaystyle \\frac{3 \\left(- 2 x^{3} + 4 x^{2} + 7\\right)}{x^{6} + 14 x^{3} + 49}$"
      ],
      "text/plain": [
       "3*(-2*x**3 + 4*x**2 + 7)/(x**6 + 14*x**3 + 49)"
      ]
     },
     "execution_count": 102,
     "metadata": {},
     "output_type": "execute_result"
    }
   ],
   "source": [
    "sp.simplify(e202c)"
   ]
  },
  {
   "cell_type": "code",
   "execution_count": 103,
   "id": "5c6254e5-026d-4f5a-a5b9-82973f20e634",
   "metadata": {},
   "outputs": [],
   "source": [
    "#Læresteg 21"
   ]
  },
  {
   "cell_type": "code",
   "execution_count": 104,
   "id": "e9942408-1074-4eb2-9ad6-2f07a2448545",
   "metadata": {},
   "outputs": [],
   "source": [
    "#Oppgave 1"
   ]
  },
  {
   "cell_type": "code",
   "execution_count": 182,
   "id": "874fe05c-fdcc-47e5-ac09-61d917c85ef8",
   "metadata": {},
   "outputs": [
    {
     "data": {
      "text/latex": [
       "$\\displaystyle \\left(15 x^{2} + 30\\right) \\left(x^{3} + 6 x\\right)^{4}$"
      ],
      "text/plain": [
       "(15*x**2 + 30)*(x**3 + 6*x)**4"
      ]
     },
     "execution_count": 182,
     "metadata": {},
     "output_type": "execute_result"
    }
   ],
   "source": [
    "#a\n",
    "e211a=sp.diff(((x**3+6*x)**5))\n",
    "e211a"
   ]
  },
  {
   "cell_type": "code",
   "execution_count": 183,
   "id": "4a5f848b-2de7-4042-a62e-ce55944d09a2",
   "metadata": {},
   "outputs": [
    {
     "data": {
      "text/latex": [
       "$\\displaystyle 15 x^{4} \\left(x^{2} + 2\\right) \\left(x^{2} + 6\\right)^{4}$"
      ],
      "text/plain": [
       "15*x**4*(x**2 + 2)*(x**2 + 6)**4"
      ]
     },
     "execution_count": 183,
     "metadata": {},
     "output_type": "execute_result"
    }
   ],
   "source": [
    "sp.simplify(e211a)"
   ]
  },
  {
   "cell_type": "code",
   "execution_count": 107,
   "id": "d21f6b16-c3c5-4645-82c6-6651e3d73619",
   "metadata": {},
   "outputs": [
    {
     "data": {
      "text/latex": [
       "$\\displaystyle \\frac{2 x}{\\sqrt{2 x^{2} + 5}}$"
      ],
      "text/plain": [
       "2*x/sqrt(2*x**2 + 5)"
      ]
     },
     "execution_count": 107,
     "metadata": {},
     "output_type": "execute_result"
    }
   ],
   "source": [
    "#b\n",
    "e211b=sp.diff(sp.sqrt(2*x**2+5))\n",
    "e211b"
   ]
  },
  {
   "cell_type": "code",
   "execution_count": 109,
   "id": "f32c4600-687f-49b1-9469-b2eb7a843975",
   "metadata": {},
   "outputs": [
    {
     "data": {
      "text/latex": [
       "$\\displaystyle - \\frac{128 x^{5}}{\\left(x^{2} + 3\\right)^{5}} + \\frac{64 x^{3}}{\\left(x^{2} + 3\\right)^{4}}$"
      ],
      "text/plain": [
       "-128*x**5/(x**2 + 3)**5 + 64*x**3/(x**2 + 3)**4"
      ]
     },
     "execution_count": 109,
     "metadata": {},
     "output_type": "execute_result"
    }
   ],
   "source": [
    "#c\n",
    "e211c=sp.diff(((2*x)/(x**2+3))**4)\n",
    "e211c"
   ]
  },
  {
   "cell_type": "code",
   "execution_count": 110,
   "id": "f9a48fd0-c519-4e30-a9bd-4ef4ab88d1db",
   "metadata": {},
   "outputs": [
    {
     "data": {
      "text/latex": [
       "$\\displaystyle \\frac{64 x^{3} \\left(3 - x^{2}\\right)}{\\left(x^{2} + 3\\right)^{5}}$"
      ],
      "text/plain": [
       "64*x**3*(3 - x**2)/(x**2 + 3)**5"
      ]
     },
     "execution_count": 110,
     "metadata": {},
     "output_type": "execute_result"
    }
   ],
   "source": [
    "sp.simplify(e211c)"
   ]
  },
  {
   "cell_type": "code",
   "execution_count": 111,
   "id": "fac716b9-151d-464a-bccc-6f0b1d482782",
   "metadata": {},
   "outputs": [
    {
     "data": {
      "text/latex": [
       "$\\displaystyle 12 x^{3} \\left(2 x^{4} + 9\\right)^{2}$"
      ],
      "text/plain": [
       "12*x**3*(2*x**4 + 9)**2"
      ]
     },
     "execution_count": 111,
     "metadata": {},
     "output_type": "execute_result"
    }
   ],
   "source": [
    "#d\n",
    "e211d=sp.diff((2*x**4+9)**3/2)\n",
    "e211d"
   ]
  },
  {
   "cell_type": "code",
   "execution_count": 113,
   "id": "26f6468a-8bae-4834-9375-35727388e244",
   "metadata": {},
   "outputs": [
    {
     "data": {
      "text/latex": [
       "$\\displaystyle - \\frac{x}{\\left(x^{2} + 1\\right)^{\\frac{3}{2}}}$"
      ],
      "text/plain": [
       "-x/(x**2 + 1)**(3/2)"
      ]
     },
     "execution_count": 113,
     "metadata": {},
     "output_type": "execute_result"
    }
   ],
   "source": [
    "#e\n",
    "e211e=sp.diff((1)/(sp.sqrt(1+x**2)))\n",
    "e211e"
   ]
  },
  {
   "cell_type": "code",
   "execution_count": 122,
   "id": "327e35e5-65e2-4b54-b203-b7c459468b6c",
   "metadata": {},
   "outputs": [
    {
     "data": {
      "text/latex": [
       "$\\displaystyle x^{2} \\left(6 x + 6\\right) \\left(x^{2} + 2 x\\right)^{2} + 2 x \\left(x^{2} + 2 x\\right)^{3}$"
      ],
      "text/plain": [
       "x**2*(6*x + 6)*(x**2 + 2*x)**2 + 2*x*(x**2 + 2*x)**3"
      ]
     },
     "execution_count": 122,
     "metadata": {},
     "output_type": "execute_result"
    }
   ],
   "source": [
    "#f\n",
    "e211f=sp.diff((x**2)*((x**2+2*x)**3))\n",
    "e211f"
   ]
  },
  {
   "cell_type": "code",
   "execution_count": 123,
   "id": "316874e9-9fd2-4e93-bd0e-684b27df599f",
   "metadata": {},
   "outputs": [
    {
     "data": {
      "text/latex": [
       "$\\displaystyle x^{4} \\left(x + 2\\right)^{2} \\left(8 x + 10\\right)$"
      ],
      "text/plain": [
       "x**4*(x + 2)**2*(8*x + 10)"
      ]
     },
     "execution_count": 123,
     "metadata": {},
     "output_type": "execute_result"
    }
   ],
   "source": [
    "sp.simplify(e211f)"
   ]
  },
  {
   "cell_type": "code",
   "execution_count": 124,
   "id": "42e5c8e5-593a-4202-acc1-cb633d25d9b5",
   "metadata": {},
   "outputs": [
    {
     "data": {
      "text/latex": [
       "$\\displaystyle \\frac{x^{2} \\left(x - 1\\right)}{\\sqrt{x^{2} - 2 x}} + 2 x \\sqrt{x^{2} - 2 x}$"
      ],
      "text/plain": [
       "x**2*(x - 1)/sqrt(x**2 - 2*x) + 2*x*sqrt(x**2 - 2*x)"
      ]
     },
     "execution_count": 124,
     "metadata": {},
     "output_type": "execute_result"
    }
   ],
   "source": [
    "#g\n",
    "e211g=sp.diff((x**2)*sp.sqrt(x**2-2*x))\n",
    "e211g"
   ]
  },
  {
   "cell_type": "code",
   "execution_count": 125,
   "id": "31eb7e55-da60-4103-a485-2c1a83d3a774",
   "metadata": {},
   "outputs": [
    {
     "data": {
      "text/latex": [
       "$\\displaystyle \\frac{x^{2} \\left(3 x - 5\\right)}{\\sqrt{x \\left(x - 2\\right)}}$"
      ],
      "text/plain": [
       "x**2*(3*x - 5)/sqrt(x*(x - 2))"
      ]
     },
     "execution_count": 125,
     "metadata": {},
     "output_type": "execute_result"
    }
   ],
   "source": [
    "sp.simplify(e211g)"
   ]
  },
  {
   "cell_type": "code",
   "execution_count": 126,
   "id": "750f850e-e539-48d7-8003-1a8f02f86ecc",
   "metadata": {},
   "outputs": [
    {
     "data": {
      "text/latex": [
       "$\\displaystyle \\frac{x^{2} \\left(- 6 x - 3\\right)}{\\left(x^{2} + x\\right)^{4}} + \\frac{2 x}{\\left(x^{2} + x\\right)^{3}}$"
      ],
      "text/plain": [
       "x**2*(-6*x - 3)/(x**2 + x)**4 + 2*x/(x**2 + x)**3"
      ]
     },
     "execution_count": 126,
     "metadata": {},
     "output_type": "execute_result"
    }
   ],
   "source": [
    "#h\n",
    "e211h=sp.diff((x**2)/((x**2+x)**3))\n",
    "e211h"
   ]
  },
  {
   "cell_type": "code",
   "execution_count": 127,
   "id": "bf7ee9f4-430c-4ffe-a1ce-c71f1118644f",
   "metadata": {},
   "outputs": [
    {
     "data": {
      "text/latex": [
       "$\\displaystyle - \\frac{4 x + 1}{x^{2} \\left(x + 1\\right)^{4}}$"
      ],
      "text/plain": [
       "-(4*x + 1)/(x**2*(x + 1)**4)"
      ]
     },
     "execution_count": 127,
     "metadata": {},
     "output_type": "execute_result"
    }
   ],
   "source": [
    "sp.simplify(e211h)"
   ]
  },
  {
   "cell_type": "code",
   "execution_count": 128,
   "id": "bd379dcc-6863-4f81-983f-e6bf8a55712f",
   "metadata": {},
   "outputs": [
    {
     "data": {
      "text/latex": [
       "$\\displaystyle 9 x^{2} \\left(x^{2} + 1\\right)^{2} \\left(x^{3} + 1\\right)^{2} + 4 x \\left(x^{2} + 1\\right) \\left(x^{3} + 1\\right)^{3}$"
      ],
      "text/plain": [
       "9*x**2*(x**2 + 1)**2*(x**3 + 1)**2 + 4*x*(x**2 + 1)*(x**3 + 1)**3"
      ]
     },
     "execution_count": 128,
     "metadata": {},
     "output_type": "execute_result"
    }
   ],
   "source": [
    "#i\n",
    "e211i=sp.diff(((x**2+1)**2)*((x**3+1)**3))\n",
    "e211i"
   ]
  },
  {
   "cell_type": "code",
   "execution_count": 129,
   "id": "c32cffdd-8344-4f70-bad6-5adea73e3fe7",
   "metadata": {},
   "outputs": [
    {
     "data": {
      "text/latex": [
       "$\\displaystyle x \\left(x^{2} + 1\\right) \\left(x^{3} + 1\\right)^{2} \\left(4 x^{3} + 9 x \\left(x^{2} + 1\\right) + 4\\right)$"
      ],
      "text/plain": [
       "x*(x**2 + 1)*(x**3 + 1)**2*(4*x**3 + 9*x*(x**2 + 1) + 4)"
      ]
     },
     "execution_count": 129,
     "metadata": {},
     "output_type": "execute_result"
    }
   ],
   "source": [
    "sp.simplify(e211i)"
   ]
  },
  {
   "cell_type": "code",
   "execution_count": 130,
   "id": "2326234a-02ea-456d-a378-8604aa52d340",
   "metadata": {},
   "outputs": [],
   "source": [
    "#Oppgave 2"
   ]
  },
  {
   "cell_type": "code",
   "execution_count": 180,
   "id": "a76232e8-daa4-46da-b2cc-c79df612fbdf",
   "metadata": {},
   "outputs": [
    {
     "data": {
      "text/latex": [
       "$\\displaystyle \\left(12 x + 4\\right) \\left(3 x^{2} + 2 x\\right)$"
      ],
      "text/plain": [
       "(12*x + 4)*(3*x**2 + 2*x)"
      ]
     },
     "execution_count": 180,
     "metadata": {},
     "output_type": "execute_result"
    }
   ],
   "source": [
    "#a\n",
    "e212a=sp.diff(sp.sqrt(3*x**2+2*x)**4)\n",
    "e212a"
   ]
  },
  {
   "cell_type": "code",
   "execution_count": 181,
   "id": "84ab27dc-68c7-401b-821e-f5d2e72e8f93",
   "metadata": {},
   "outputs": [
    {
     "data": {
      "text/latex": [
       "$\\displaystyle 4 x \\left(3 x + 1\\right) \\left(3 x + 2\\right)$"
      ],
      "text/plain": [
       "4*x*(3*x + 1)*(3*x + 2)"
      ]
     },
     "execution_count": 181,
     "metadata": {},
     "output_type": "execute_result"
    }
   ],
   "source": [
    "sp.simplify(e212a)"
   ]
  },
  {
   "cell_type": "code",
   "execution_count": 135,
   "id": "1629e286-c731-42b5-be05-51722dc24ca1",
   "metadata": {},
   "outputs": [
    {
     "data": {
      "text/latex": [
       "$\\displaystyle 15 x^{2} \\left(x^{2} + 3\\right)^{4} \\left(x^{3} + 3\\right)^{4} + 8 x \\left(x^{2} + 3\\right)^{3} \\left(x^{3} + 3\\right)^{5}$"
      ],
      "text/plain": [
       "15*x**2*(x**2 + 3)**4*(x**3 + 3)**4 + 8*x*(x**2 + 3)**3*(x**3 + 3)**5"
      ]
     },
     "execution_count": 135,
     "metadata": {},
     "output_type": "execute_result"
    }
   ],
   "source": [
    "#b\n",
    "e212b=sp.diff(((x**3+3)**5)*((x**2+3)**4))\n",
    "e212b"
   ]
  },
  {
   "cell_type": "code",
   "execution_count": 136,
   "id": "e4a191e4-9c6d-485c-93dc-6de1cc5bceea",
   "metadata": {},
   "outputs": [
    {
     "data": {
      "text/latex": [
       "$\\displaystyle x \\left(x^{2} + 3\\right)^{3} \\left(x^{3} + 3\\right)^{4} \\left(8 x^{3} + 15 x \\left(x^{2} + 3\\right) + 24\\right)$"
      ],
      "text/plain": [
       "x*(x**2 + 3)**3*(x**3 + 3)**4*(8*x**3 + 15*x*(x**2 + 3) + 24)"
      ]
     },
     "execution_count": 136,
     "metadata": {},
     "output_type": "execute_result"
    }
   ],
   "source": [
    "sp.simplify(e212b)"
   ]
  },
  {
   "cell_type": "code",
   "execution_count": 137,
   "id": "cb3336ab-abd3-4745-81f1-c7d971a9be0f",
   "metadata": {},
   "outputs": [
    {
     "data": {
      "text/latex": [
       "$\\displaystyle \\frac{x^{3}}{\\sqrt{x^{2} + 1}} + 2 x \\sqrt{x^{2} + 1}$"
      ],
      "text/plain": [
       "x**3/sqrt(x**2 + 1) + 2*x*sqrt(x**2 + 1)"
      ]
     },
     "execution_count": 137,
     "metadata": {},
     "output_type": "execute_result"
    }
   ],
   "source": [
    "#c\n",
    "e212c=sp.diff((sp.sqrt(x**2+1))*x**2)\n",
    "e212c"
   ]
  },
  {
   "cell_type": "code",
   "execution_count": 138,
   "id": "dcff1875-5dee-48bb-8b62-4cd6456f1cc7",
   "metadata": {},
   "outputs": [
    {
     "data": {
      "text/latex": [
       "$\\displaystyle \\frac{x \\left(3 x^{2} + 2\\right)}{\\sqrt{x^{2} + 1}}$"
      ],
      "text/plain": [
       "x*(3*x**2 + 2)/sqrt(x**2 + 1)"
      ]
     },
     "execution_count": 138,
     "metadata": {},
     "output_type": "execute_result"
    }
   ],
   "source": [
    "sp.simplify(e212c)"
   ]
  },
  {
   "cell_type": "code",
   "execution_count": 140,
   "id": "ab848760-fe80-4919-97e9-f2cf5f6689e9",
   "metadata": {},
   "outputs": [
    {
     "data": {
      "text/latex": [
       "$\\displaystyle \\frac{\\left(18 x + 6\\right) \\left(3 x^{2} + 2 x\\right)^{2}}{x^{2}} - \\frac{2 \\left(3 x^{2} + 2 x\\right)^{3}}{x^{3}}$"
      ],
      "text/plain": [
       "(18*x + 6)*(3*x**2 + 2*x)**2/x**2 - 2*(3*x**2 + 2*x)**3/x**3"
      ]
     },
     "execution_count": 140,
     "metadata": {},
     "output_type": "execute_result"
    }
   ],
   "source": [
    "#d\n",
    "e212d=sp.diff(((2*x+3*x**2)**3)/(x**2))\n",
    "e212d"
   ]
  },
  {
   "cell_type": "code",
   "execution_count": 141,
   "id": "3a389b91-0758-4b59-ba86-e3f9cbe6b73f",
   "metadata": {},
   "outputs": [
    {
     "data": {
      "text/latex": [
       "$\\displaystyle \\left(3 x + 2\\right)^{2} \\left(12 x + 2\\right)$"
      ],
      "text/plain": [
       "(3*x + 2)**2*(12*x + 2)"
      ]
     },
     "execution_count": 141,
     "metadata": {},
     "output_type": "execute_result"
    }
   ],
   "source": [
    "sp.simplify(e212d)"
   ]
  },
  {
   "cell_type": "code",
   "execution_count": 142,
   "id": "bfcc24f1-e9dd-42c5-b3aa-39e6312335f0",
   "metadata": {},
   "outputs": [
    {
     "data": {
      "text/latex": [
       "$\\displaystyle \\frac{4 x^{3}}{3 \\left(x^{4} - 5\\right)^{\\frac{2}{3}}}$"
      ],
      "text/plain": [
       "4*x**3/(3*(x**4 - 5)**(2/3))"
      ]
     },
     "execution_count": 142,
     "metadata": {},
     "output_type": "execute_result"
    }
   ],
   "source": [
    "#e\n",
    "e212e=sp.diff(sp.root(x**4-5, 3))\n",
    "e212e"
   ]
  },
  {
   "cell_type": "code",
   "execution_count": 145,
   "id": "3612ea7b-b0ed-4808-b457-a4b14d3ac563",
   "metadata": {},
   "outputs": [
    {
     "data": {
      "text/latex": [
       "$\\displaystyle - \\frac{2 x^{6}}{\\left(x^{4} - 1\\right)^{\\frac{3}{2}}} + \\frac{3 x^{2}}{\\sqrt{x^{4} - 1}}$"
      ],
      "text/plain": [
       "-2*x**6/(x**4 - 1)**(3/2) + 3*x**2/sqrt(x**4 - 1)"
      ]
     },
     "execution_count": 145,
     "metadata": {},
     "output_type": "execute_result"
    }
   ],
   "source": [
    "#f\n",
    "e212f=sp.diff((x**3)/(sp.sqrt(x**4-1)))\n",
    "e212f"
   ]
  },
  {
   "cell_type": "code",
   "execution_count": 146,
   "id": "60f6fab2-9b10-41a4-bc67-e99e635feaac",
   "metadata": {},
   "outputs": [
    {
     "data": {
      "text/latex": [
       "$\\displaystyle \\frac{x^{2} \\left(x^{4} - 3\\right)}{\\left(x^{4} - 1\\right)^{\\frac{3}{2}}}$"
      ],
      "text/plain": [
       "x**2*(x**4 - 3)/(x**4 - 1)**(3/2)"
      ]
     },
     "execution_count": 146,
     "metadata": {},
     "output_type": "execute_result"
    }
   ],
   "source": [
    "sp.simplify(e212f)"
   ]
  },
  {
   "cell_type": "code",
   "execution_count": 147,
   "id": "d2a3f0e8-fe15-4efb-81e5-e455a2e37f96",
   "metadata": {},
   "outputs": [],
   "source": [
    "#Læresteg 22"
   ]
  },
  {
   "cell_type": "code",
   "execution_count": 148,
   "id": "c336dda9-8474-4e88-a556-91ecf0478eeb",
   "metadata": {},
   "outputs": [],
   "source": [
    "#Oppgave 1"
   ]
  },
  {
   "cell_type": "code",
   "execution_count": 152,
   "id": "2d132dbd-b471-49fa-9c15-a1abf1b8c5c7",
   "metadata": {},
   "outputs": [
    {
     "data": {
      "text/latex": [
       "$\\displaystyle \\frac{1}{x}$"
      ],
      "text/plain": [
       "1/x"
      ]
     },
     "execution_count": 152,
     "metadata": {},
     "output_type": "execute_result"
    }
   ],
   "source": [
    "#a\n",
    "e221a=sp.diff(sp.log(5*x))\n",
    "e221a"
   ]
  },
  {
   "cell_type": "code",
   "execution_count": 153,
   "id": "3ed8423c-097c-4f44-9d4d-e434c76f58d1",
   "metadata": {},
   "outputs": [
    {
     "data": {
      "text/latex": [
       "$\\displaystyle - 2 e^{- 2 x}$"
      ],
      "text/plain": [
       "-2*exp(-2*x)"
      ]
     },
     "execution_count": 153,
     "metadata": {},
     "output_type": "execute_result"
    }
   ],
   "source": [
    "#b\n",
    "e221b=sp.diff(sp.exp(-2*x))\n",
    "e221b"
   ]
  },
  {
   "cell_type": "code",
   "execution_count": 158,
   "id": "daf0638c-2fa4-48fa-9755-3a96eadf678b",
   "metadata": {},
   "outputs": [
    {
     "data": {
      "text/latex": [
       "$\\displaystyle \\frac{12}{12 x - 3}$"
      ],
      "text/plain": [
       "12/(12*x - 3)"
      ]
     },
     "execution_count": 158,
     "metadata": {},
     "output_type": "execute_result"
    }
   ],
   "source": [
    "#c\n",
    "e221c=sp.diff(sp.log((12*x)-3))\n",
    "e221c"
   ]
  },
  {
   "cell_type": "code",
   "execution_count": 159,
   "id": "0e17e3e0-b0e9-4ec9-aad5-2b88729ffe2a",
   "metadata": {},
   "outputs": [
    {
     "data": {
      "text/latex": [
       "$\\displaystyle \\frac{4}{4 x - 1}$"
      ],
      "text/plain": [
       "4/(4*x - 1)"
      ]
     },
     "execution_count": 159,
     "metadata": {},
     "output_type": "execute_result"
    }
   ],
   "source": [
    "sp.simplify(e221c)"
   ]
  },
  {
   "cell_type": "code",
   "execution_count": 160,
   "id": "2a02ed41-455d-44e9-95bf-71f7c98733fe",
   "metadata": {},
   "outputs": [
    {
     "data": {
      "text/latex": [
       "$\\displaystyle 2^{x} \\log{\\left(2 \\right)}$"
      ],
      "text/plain": [
       "2**x*log(2)"
      ]
     },
     "execution_count": 160,
     "metadata": {},
     "output_type": "execute_result"
    }
   ],
   "source": [
    "#d\n",
    "e221d=sp.diff(2**x)\n",
    "e221d"
   ]
  },
  {
   "cell_type": "code",
   "execution_count": 161,
   "id": "04fa0061-8157-4dbe-9cf6-028edadb1e32",
   "metadata": {},
   "outputs": [
    {
     "data": {
      "text/latex": [
       "$\\displaystyle 3 e^{3 x + 5}$"
      ],
      "text/plain": [
       "3*exp(3*x + 5)"
      ]
     },
     "execution_count": 161,
     "metadata": {},
     "output_type": "execute_result"
    }
   ],
   "source": [
    "#e\n",
    "e221e=sp.diff(sp.exp(3*x+5))\n",
    "e221e"
   ]
  },
  {
   "cell_type": "code",
   "execution_count": 162,
   "id": "5bb774ce-3786-4598-841d-ec50ce649932",
   "metadata": {},
   "outputs": [
    {
     "data": {
      "text/latex": [
       "$\\displaystyle \\frac{5 x^{4}}{x^{5} + 1}$"
      ],
      "text/plain": [
       "5*x**4/(x**5 + 1)"
      ]
     },
     "execution_count": 162,
     "metadata": {},
     "output_type": "execute_result"
    }
   ],
   "source": [
    "#f\n",
    "e221f=sp.diff(sp.log(x**5+1))\n",
    "e221f"
   ]
  },
  {
   "cell_type": "code",
   "execution_count": 163,
   "id": "3e7c45c6-edbf-4de2-9e89-7875e9f8f604",
   "metadata": {},
   "outputs": [
    {
     "data": {
      "text/latex": [
       "$\\displaystyle \\left(8 x + 8\\right) e^{4 x^{2} + 8 x}$"
      ],
      "text/plain": [
       "(8*x + 8)*exp(4*x**2 + 8*x)"
      ]
     },
     "execution_count": 163,
     "metadata": {},
     "output_type": "execute_result"
    }
   ],
   "source": [
    "#g\n",
    "e221g=sp.diff(sp.exp(4*x**2+8*x))\n",
    "e221g"
   ]
  },
  {
   "cell_type": "code",
   "execution_count": 165,
   "id": "1739ce4b-1070-49e5-acd1-7b1a443cedf7",
   "metadata": {},
   "outputs": [
    {
     "data": {
      "text/latex": [
       "$\\displaystyle - \\frac{1}{x}$"
      ],
      "text/plain": [
       "-1/x"
      ]
     },
     "execution_count": 165,
     "metadata": {},
     "output_type": "execute_result"
    }
   ],
   "source": [
    "#h\n",
    "e221h=sp.diff(sp.log(1/x))\n",
    "e221h"
   ]
  },
  {
   "cell_type": "code",
   "execution_count": 166,
   "id": "d8fe9aef-066f-4541-a8be-71b456af87d2",
   "metadata": {},
   "outputs": [
    {
     "data": {
      "text/latex": [
       "$\\displaystyle 12 e^{4 x} + \\frac{6}{x}$"
      ],
      "text/plain": [
       "12*exp(4*x) + 6/x"
      ]
     },
     "execution_count": 166,
     "metadata": {},
     "output_type": "execute_result"
    }
   ],
   "source": [
    "#i\n",
    "e221i=sp.diff((6*sp.log(x))+(3*sp.exp(4*x)))\n",
    "e221i"
   ]
  },
  {
   "cell_type": "code",
   "execution_count": 167,
   "id": "49ed23d6-f1ef-44cb-a5b9-b1be8d356b52",
   "metadata": {},
   "outputs": [
    {
     "data": {
      "text/latex": [
       "$\\displaystyle - x e^{- x} + e^{- x}$"
      ],
      "text/plain": [
       "-x*exp(-x) + exp(-x)"
      ]
     },
     "execution_count": 167,
     "metadata": {},
     "output_type": "execute_result"
    }
   ],
   "source": [
    "#j\n",
    "e221j=sp.diff(x*sp.exp(-x))\n",
    "e221j"
   ]
  },
  {
   "cell_type": "code",
   "execution_count": 168,
   "id": "9a3f5441-4c58-4839-9ff2-7d562829f7dd",
   "metadata": {},
   "outputs": [
    {
     "data": {
      "text/latex": [
       "$\\displaystyle \\left(1 - x\\right) e^{- x}$"
      ],
      "text/plain": [
       "(1 - x)*exp(-x)"
      ]
     },
     "execution_count": 168,
     "metadata": {},
     "output_type": "execute_result"
    }
   ],
   "source": [
    "sp.simplify(e221j)"
   ]
  },
  {
   "cell_type": "code",
   "execution_count": 169,
   "id": "af24173c-a329-42cc-8445-e5e36fae8f1c",
   "metadata": {},
   "outputs": [
    {
     "data": {
      "text/latex": [
       "$\\displaystyle \\frac{2 x^{3}}{x^{2} + 2} + 2 x \\log{\\left(x^{2} + 2 \\right)}$"
      ],
      "text/plain": [
       "2*x**3/(x**2 + 2) + 2*x*log(x**2 + 2)"
      ]
     },
     "execution_count": 169,
     "metadata": {},
     "output_type": "execute_result"
    }
   ],
   "source": [
    "#k\n",
    "e221k=sp.diff(x**2*sp.log(x**2+2))\n",
    "e221k"
   ]
  },
  {
   "cell_type": "code",
   "execution_count": 171,
   "id": "369e7842-bfe8-4489-9229-af3a67f0b5dc",
   "metadata": {},
   "outputs": [],
   "source": [
    "#Oppgave 2"
   ]
  },
  {
   "cell_type": "code",
   "execution_count": 172,
   "id": "b692ec2b-c85b-4600-b0ce-66d92158c26c",
   "metadata": {},
   "outputs": [
    {
     "data": {
      "text/latex": [
       "$\\displaystyle 2 x^{3} e^{2 x} + 3 x^{2} e^{2 x}$"
      ],
      "text/plain": [
       "2*x**3*exp(2*x) + 3*x**2*exp(2*x)"
      ]
     },
     "execution_count": 172,
     "metadata": {},
     "output_type": "execute_result"
    }
   ],
   "source": [
    "#a\n",
    "e222a=sp.diff(x**3*sp.exp(2*x))\n",
    "e222a"
   ]
  },
  {
   "cell_type": "code",
   "execution_count": 173,
   "id": "494ac383-4e2f-457c-9df7-4ad93dec0aed",
   "metadata": {},
   "outputs": [
    {
     "data": {
      "text/latex": [
       "$\\displaystyle x^{2} \\left(2 x + 3\\right) e^{2 x}$"
      ],
      "text/plain": [
       "x**2*(2*x + 3)*exp(2*x)"
      ]
     },
     "execution_count": 173,
     "metadata": {},
     "output_type": "execute_result"
    }
   ],
   "source": [
    "sp.simplify(e222a)"
   ]
  },
  {
   "cell_type": "code",
   "execution_count": 174,
   "id": "ef452122-001d-4581-ba4b-985cbc8cfd4f",
   "metadata": {},
   "outputs": [
    {
     "data": {
      "text/latex": [
       "$\\displaystyle \\frac{\\left(x^{2} + 1\\right) \\left(- \\frac{2 x \\left(x^{2} - 1\\right)}{\\left(x^{2} + 1\\right)^{2}} + \\frac{2 x}{x^{2} + 1}\\right)}{x^{2} - 1}$"
      ],
      "text/plain": [
       "(x**2 + 1)*(-2*x*(x**2 - 1)/(x**2 + 1)**2 + 2*x/(x**2 + 1))/(x**2 - 1)"
      ]
     },
     "execution_count": 174,
     "metadata": {},
     "output_type": "execute_result"
    }
   ],
   "source": [
    "#b\n",
    "e222b=sp.diff(sp.log((x**2-1)/(x**2+1)))\n",
    "e222b"
   ]
  },
  {
   "cell_type": "code",
   "execution_count": 175,
   "id": "82a481c7-ceb2-49dc-9c47-12ebf3929363",
   "metadata": {},
   "outputs": [
    {
     "data": {
      "text/latex": [
       "$\\displaystyle \\frac{4 x}{x^{4} - 1}$"
      ],
      "text/plain": [
       "4*x/(x**4 - 1)"
      ]
     },
     "execution_count": 175,
     "metadata": {},
     "output_type": "execute_result"
    }
   ],
   "source": [
    "sp.simplify(e222b)"
   ]
  },
  {
   "cell_type": "code",
   "execution_count": 176,
   "id": "6d715fff-06fa-4e78-90e4-d8113bd64bfe",
   "metadata": {},
   "outputs": [
    {
     "data": {
      "text/latex": [
       "$\\displaystyle \\frac{2 x^{3}}{x^{2} + 2} + 2 x \\log{\\left(x^{2} + 2 \\right)}$"
      ],
      "text/plain": [
       "2*x**3/(x**2 + 2) + 2*x*log(x**2 + 2)"
      ]
     },
     "execution_count": 176,
     "metadata": {},
     "output_type": "execute_result"
    }
   ],
   "source": [
    "#c\n",
    "e222c=sp.diff(x**2*sp.log(x**2+2))\n",
    "e222c"
   ]
  },
  {
   "cell_type": "code",
   "execution_count": 178,
   "id": "6d670e38-3dd3-4515-bb60-2d13d383b331",
   "metadata": {},
   "outputs": [
    {
     "data": {
      "text/latex": [
       "$\\displaystyle - \\frac{2 x e^{- x}}{\\left(x^{2} + 1\\right)^{2}} - \\frac{e^{- x}}{x^{2} + 1}$"
      ],
      "text/plain": [
       "-2*x*exp(-x)/(x**2 + 1)**2 - exp(-x)/(x**2 + 1)"
      ]
     },
     "execution_count": 178,
     "metadata": {},
     "output_type": "execute_result"
    }
   ],
   "source": [
    "#d\n",
    "e222d=sp.diff(sp.exp(-x)/(x**2+1))\n",
    "e222d"
   ]
  },
  {
   "cell_type": "code",
   "execution_count": 179,
   "id": "49ef35e6-8cdc-4026-9a8c-e7f1b512fa00",
   "metadata": {},
   "outputs": [
    {
     "data": {
      "text/latex": [
       "$\\displaystyle - \\frac{\\left(x^{2} + 2 x + 1\\right) e^{- x}}{\\left(x^{2} + 1\\right)^{2}}$"
      ],
      "text/plain": [
       "-(x**2 + 2*x + 1)*exp(-x)/(x**2 + 1)**2"
      ]
     },
     "execution_count": 179,
     "metadata": {},
     "output_type": "execute_result"
    }
   ],
   "source": [
    "sp.simplify(e222d)"
   ]
  },
  {
   "cell_type": "code",
   "execution_count": null,
   "id": "cae9604e-b052-43f8-84b8-4d1adbff1c17",
   "metadata": {},
   "outputs": [],
   "source": []
  }
 ],
 "metadata": {
  "kernelspec": {
   "display_name": "Python 3 (ipykernel)",
   "language": "python",
   "name": "python3"
  },
  "language_info": {
   "codemirror_mode": {
    "name": "ipython",
    "version": 3
   },
   "file_extension": ".py",
   "mimetype": "text/x-python",
   "name": "python",
   "nbconvert_exporter": "python",
   "pygments_lexer": "ipython3",
   "version": "3.9.5"
  }
 },
 "nbformat": 4,
 "nbformat_minor": 5
}
